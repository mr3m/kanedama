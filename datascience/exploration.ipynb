{
 "cells": [
  {
   "cell_type": "code",
   "execution_count": 537,
   "metadata": {},
   "outputs": [],
   "source": [
    "import warnings\n",
    "\n",
    "from functools import lru_cache\n",
    "from itertools import product\n",
    "\n",
    "import numpy as np\n",
    "import pandas as pd\n",
    "import statsmodels.api as sm\n",
    "import matplotlib.pyplot as plt\n",
    "\n",
    "from sklearn import linear_model\n",
    "from sklearn.ensemble import GradientBoostingRegressor, RandomForestRegressor\n",
    "from sklearn.metrics import mean_squared_error, mean_absolute_error, mean_absolute_percentage_error, r2_score\n",
    "from sklearn.model_selection import train_test_split, cross_val_score, RandomizedSearchCV\n",
    "from sklearn.neural_network import MLPRegressor\n",
    "from sklearn.neighbors import KNeighborsRegressor\n",
    "from sklearn.inspection import permutation_importance\n",
    "from scipy.stats import uniform, randint\n",
    "from statsmodels.tsa.stattools import adfuller\n",
    "from statsmodels.tsa.arima.model import ARIMA\n",
    "from tqdm import tqdm"
   ]
  },
  {
   "cell_type": "markdown",
   "metadata": {},
   "source": [
    "# Accounts"
   ]
  },
  {
   "cell_type": "code",
   "execution_count": 2,
   "metadata": {},
   "outputs": [],
   "source": [
    "# Load account data\n",
    "accounts_df = pd.read_csv('data/accounts.csv', parse_dates=['update_date'])"
   ]
  },
  {
   "cell_type": "code",
   "execution_count": 3,
   "metadata": {},
   "outputs": [
    {
     "name": "stdout",
     "output_type": "stream",
     "text": [
      "<class 'pandas.core.frame.DataFrame'>\n",
      "RangeIndex: 1254 entries, 0 to 1253\n",
      "Data columns (total 3 columns):\n",
      " #   Column       Non-Null Count  Dtype         \n",
      "---  ------       --------------  -----         \n",
      " 0   id           1254 non-null   int64         \n",
      " 1   balance      1254 non-null   float64       \n",
      " 2   update_date  1254 non-null   datetime64[ns]\n",
      "dtypes: datetime64[ns](1), float64(1), int64(1)\n",
      "memory usage: 29.5 KB\n"
     ]
    }
   ],
   "source": [
    "# Inspect schema\n",
    "accounts_df.info()"
   ]
  },
  {
   "cell_type": "code",
   "execution_count": 4,
   "metadata": {},
   "outputs": [
    {
     "data": {
      "text/html": [
       "<div>\n",
       "<style scoped>\n",
       "    .dataframe tbody tr th:only-of-type {\n",
       "        vertical-align: middle;\n",
       "    }\n",
       "\n",
       "    .dataframe tbody tr th {\n",
       "        vertical-align: top;\n",
       "    }\n",
       "\n",
       "    .dataframe thead th {\n",
       "        text-align: right;\n",
       "    }\n",
       "</style>\n",
       "<table border=\"1\" class=\"dataframe\">\n",
       "  <thead>\n",
       "    <tr style=\"text-align: right;\">\n",
       "      <th></th>\n",
       "      <th>count</th>\n",
       "      <th>mean</th>\n",
       "      <th>std</th>\n",
       "      <th>min</th>\n",
       "      <th>1%</th>\n",
       "      <th>10%</th>\n",
       "      <th>20%</th>\n",
       "      <th>30%</th>\n",
       "      <th>40%</th>\n",
       "      <th>50%</th>\n",
       "      <th>60%</th>\n",
       "      <th>70%</th>\n",
       "      <th>80%</th>\n",
       "      <th>90%</th>\n",
       "      <th>99%</th>\n",
       "      <th>max</th>\n",
       "    </tr>\n",
       "  </thead>\n",
       "  <tbody>\n",
       "    <tr>\n",
       "      <th>balance</th>\n",
       "      <td>1254.0</td>\n",
       "      <td>2495.186994</td>\n",
       "      <td>11853.402866</td>\n",
       "      <td>-98240.37</td>\n",
       "      <td>-7497.072</td>\n",
       "      <td>-148.342</td>\n",
       "      <td>0.58</td>\n",
       "      <td>2.975</td>\n",
       "      <td>15.244</td>\n",
       "      <td>72.065</td>\n",
       "      <td>247.908</td>\n",
       "      <td>690.044</td>\n",
       "      <td>1753.47</td>\n",
       "      <td>5670.866</td>\n",
       "      <td>52343.4789</td>\n",
       "      <td>216975.66</td>\n",
       "    </tr>\n",
       "  </tbody>\n",
       "</table>\n",
       "</div>"
      ],
      "text/plain": [
       "          count         mean           std       min        1%      10%   20%  \\\n",
       "balance  1254.0  2495.186994  11853.402866 -98240.37 -7497.072 -148.342  0.58   \n",
       "\n",
       "           30%     40%     50%      60%      70%      80%       90%  \\\n",
       "balance  2.975  15.244  72.065  247.908  690.044  1753.47  5670.866   \n",
       "\n",
       "                99%        max  \n",
       "balance  52343.4789  216975.66  "
      ]
     },
     "execution_count": 4,
     "metadata": {},
     "output_type": "execute_result"
    },
    {
     "data": {
      "image/png": "[encoded data removed]",
      "text/plain": [
       "<Figure size 432x288 with 1 Axes>"
      ]
     },
     "metadata": {
      "needs_background": "light"
     },
     "output_type": "display_data"
    }
   ],
   "source": [
    "# General distribution of `balance` per account and quantiles\n",
    "accounts_df.balance.plot.kde(title='Balance distribution')\n",
    "accounts_df[['balance']].describe(percentiles=list(np.arange(0.1,1,0.1))+[0.01,0.99]).transpose()"
   ]
  },
  {
   "cell_type": "code",
   "execution_count": 5,
   "metadata": {},
   "outputs": [
    {
     "data": {
      "text/plain": [
       "<AxesSubplot:title={'center':'Distribution of the 98% quantile of Balance'}, ylabel='Density'>"
      ]
     },
     "execution_count": 5,
     "metadata": {},
     "output_type": "execute_result"
    },
    {
     "data": {
      "image/png": "[encoded data removed]",
      "text/plain": [
       "<Figure size 432x288 with 1 Axes>"
      ]
     },
     "metadata": {
      "needs_background": "light"
     },
     "output_type": "display_data"
    }
   ],
   "source": [
    "# Distribution of 98 % of the probability mass\n",
    "accounts_df.balance.loc[\n",
    "    (accounts_df.balance>accounts_df.balance.quantile(0.01))&(\n",
    "        accounts_df.balance<accounts_df.balance.quantile(0.99))\n",
    "    ].plot.kde(title='Distribution of the 98% quantile of Balance')"
   ]
  },
  {
   "cell_type": "code",
   "execution_count": 6,
   "metadata": {},
   "outputs": [
    {
     "data": {
      "text/plain": [
       "count                   1254\n",
       "mean     2021-07-02 00:00:00\n",
       "min      2021-07-02 00:00:00\n",
       "25%      2021-07-02 00:00:00\n",
       "50%      2021-07-02 00:00:00\n",
       "75%      2021-07-02 00:00:00\n",
       "max      2021-07-02 00:00:00\n",
       "Name: update_date, dtype: object"
      ]
     },
     "execution_count": 6,
     "metadata": {},
     "output_type": "execute_result"
    }
   ],
   "source": [
    "# Distribution of `update_date`.\n",
    "accounts_df.update_date.describe(datetime_is_numeric=True)"
   ]
  },
  {
   "cell_type": "markdown",
   "metadata": {},
   "source": [
    "# Transactions"
   ]
  },
  {
   "cell_type": "code",
   "execution_count": 7,
   "metadata": {},
   "outputs": [],
   "source": [
    "# Load transactions\n",
    "transactions_df = pd.read_csv('data/transactions.csv', parse_dates=['date'])"
   ]
  },
  {
   "cell_type": "code",
   "execution_count": 8,
   "metadata": {},
   "outputs": [
    {
     "name": "stdout",
     "output_type": "stream",
     "text": [
      "<class 'pandas.core.frame.DataFrame'>\n",
      "RangeIndex: 518229 entries, 0 to 518228\n",
      "Data columns (total 3 columns):\n",
      " #   Column      Non-Null Count   Dtype         \n",
      "---  ------      --------------   -----         \n",
      " 0   account_id  518229 non-null  int64         \n",
      " 1   date        518229 non-null  datetime64[ns]\n",
      " 2   amount      518229 non-null  float64       \n",
      "dtypes: datetime64[ns](1), float64(1), int64(1)\n",
      "memory usage: 11.9 MB\n"
     ]
    }
   ],
   "source": [
    "# Inspect schema\n",
    "transactions_df.info()"
   ]
  },
  {
   "cell_type": "code",
   "execution_count": 9,
   "metadata": {},
   "outputs": [],
   "source": [
    "# Helper function to slice the transaction time series by account_id\n",
    "transactions_by_account_and_date = transactions_df.set_index(['account_id','date'])\n",
    "def get_single_transaction_time_series(account_id:int)->pd.DataFrame:\n",
    "    return transactions_by_account_and_date.loc[(account_id, slice(None))]"
   ]
  },
  {
   "cell_type": "code",
   "execution_count": 10,
   "metadata": {},
   "outputs": [
    {
     "data": {
      "image/png": "[encoded data removed]",
      "text/plain": [
       "<Figure size 432x288 with 1 Axes>"
      ]
     },
     "metadata": {
      "needs_background": "light"
     },
     "output_type": "display_data"
    },
    {
     "data": {
      "image/png": "[encoded data removed]",
      "text/plain": [
       "<Figure size 432x432 with 3 Axes>"
      ]
     },
     "metadata": {
      "needs_background": "light"
     },
     "output_type": "display_data"
    },
    {
     "data": {
      "image/png": "[encoded data removed]",
      "text/plain": [
       "<Figure size 432x288 with 1 Axes>"
      ]
     },
     "metadata": {
      "needs_background": "light"
     },
     "output_type": "display_data"
    }
   ],
   "source": [
    "# Plotting a single account_id time series resampling by day, week and month\n",
    "account_number = 0\n",
    "single_series_data = get_single_transaction_time_series(account_number)\n",
    "single_series_data.plot(title=f'Transaction amount as a function of time \\n for account number {account_number}')\n",
    "single_series_data_resampled = single_series_data.resample('d').sum()\n",
    "for frequency in ['W', 'M']:\n",
    "    single_series_data_resampled[f'amount_{frequency}'] = single_series_data_resampled['amount'].resample(frequency).sum()\n",
    "single_series_data_resampled.fillna(0).plot(subplots=True, figsize=(6, 6), \n",
    "title=f'Daily, weekly and monthly resampled transaction amount \\n as a function of time for account number {account_number}')\n",
    "single_series_data.resample('d').sum().rolling('30d').sum().plot(\n",
    "    title=f'30 Day rolling sum of amounts as a function of time \\n for account number {account_number}')\n",
    "plt.show()"
   ]
  },
  {
   "cell_type": "markdown",
   "metadata": {},
   "source": [
    "# Hypothesis"
   ]
  },
  {
   "cell_type": "markdown",
   "metadata": {},
   "source": [
    "## Linear Models"
   ]
  },
  {
   "cell_type": "code",
   "execution_count": 11,
   "metadata": {},
   "outputs": [],
   "source": [
    "# Observation 1: The outgoing tends to match and cancel the income \n",
    "# \"You tend to expend what you have\"\n",
    "# \"Tell me how much you have and I'll tell you how much you will expend.\"\n",
    "# Idea 1: Measure the correlation between incoming with the outgoing."
   ]
  },
  {
   "cell_type": "code",
   "execution_count": 12,
   "metadata": {},
   "outputs": [],
   "source": [
    "class TransactionTimeSeries:\n",
    "    '''Encapsulates a single transaction time series'''\n",
    "    def __init__(self, account_id, transactions, balance):\n",
    "        self.account_id = account_id\n",
    "        self.transactions = transactions\n",
    "        self.balance = balance\n",
    "        self.transaction_date_start = self.transactions.index.get_level_values('date').min()\n",
    "        self.transaction_date_last = self.transactions.index.get_level_values('date').max()\n",
    "        self.transaction_date_span = self.transaction_date_last - self.transaction_date_start\n",
    "    \n",
    "    def incoming_transactions(self):\n",
    "        '''Returns the transactions with a positive amount'''\n",
    "        return TransactionTimeSeries(self.account_id, self.transactions[self.transactions>0].dropna(), self.balance)\n",
    "\n",
    "    def outgoing_transactions(self):\n",
    "        '''Returns the transactions with a negative amount'''\n",
    "        return TransactionTimeSeries(self.account_id, self.transactions[self.transactions<0].dropna(), self.balance)\n",
    "\n",
    "    @lru_cache\n",
    "    def transactions_after_n_days(self, number_of_days:int):\n",
    "        '''Returns the transactions spanning from the start date up until the start date plus the given number of days'''\n",
    "        return TransactionTimeSeries(\n",
    "            self.account_id,\n",
    "            self.transactions.loc[(slice(None), pd.date_range(\n",
    "                start=self.transaction_date_start, \n",
    "                periods=number_of_days)), :], \n",
    "            self.balance)\n",
    "\n",
    "    @lru_cache\n",
    "    def remaining_transactions_after_n_days(self, number_of_days:int):\n",
    "        '''Returns the transactions spanning from the start date plus the given number of days up until the last date'''\n",
    "        return TransactionTimeSeries(\n",
    "            self.account_id,\n",
    "            self.transactions.loc[(slice(None), pd.date_range(\n",
    "                start=self.transaction_date_start+pd.DateOffset(number_of_days), \n",
    "                end=self.transaction_date_last)), :], \n",
    "            self.balance)\n",
    "\n",
    "    @lru_cache\n",
    "    def transactions_from_n_to_m_days(self, n_number_of_days:int, m_number_of_days:int):\n",
    "        '''Returns the transactions spanning from the start date + n days up until the start date + m days'''\n",
    "        return TransactionTimeSeries(\n",
    "            self.account_id,\n",
    "            self.transactions.loc[(slice(None), pd.date_range(\n",
    "                start=self.transaction_date_start+pd.DateOffset(n_number_of_days), \n",
    "                end=self.transaction_date_start+pd.DateOffset(m_number_of_days))), :], \n",
    "            self.balance)\n",
    "\n",
    "    def resample(self, frequency: str)->pd.DataFrame:\n",
    "        '''Returns a timeseries resampled by a given frequency'''\n",
    "        return self.transactions.droplevel(level=0).resample(frequency)\n",
    "\n",
    "    def __call__(self)->pd.DataFrame:\n",
    "        return self.transactions\n",
    "\n",
    "\n",
    "class TransactionsTimeSeries:\n",
    "    '''Encapsulates the transactions and accounts files to be exploited as time series'''\n",
    "    def __init__(self, transactions_df, accounts_df):\n",
    "        self._transactions_df = transactions_df.copy().reset_index().set_index(['index','account_id','date'])\n",
    "        self._accounts_df = accounts_df.copy().set_index('id')\n",
    "        self.transactions = {\n",
    "            account_id: transaction_time_series for account_id, transaction_time_series in\n",
    "            {\n",
    "                account_id: TransactionTimeSeries(\n",
    "                    account_id,\n",
    "                    self._transactions_df.loc[(slice(None), account_id, slice(None)), :].droplevel(level='account_id'),\n",
    "                    self._accounts_df.loc[account_id, :]\n",
    "                ) for account_id in self._accounts_df.index\n",
    "            }.items()\n",
    "            if transaction_time_series.transaction_date_span.days > 180 \n",
    "            # Filter accounts with less than 180 days of transactions\n",
    "        }\n",
    "        self.accounts = tuple(self.transactions.keys())\n",
    "\n",
    "    def __call__(self, account_id:int)->TransactionTimeSeries: \n",
    "        return self.transactions[account_id]\n"
   ]
  },
  {
   "cell_type": "code",
   "execution_count": 13,
   "metadata": {},
   "outputs": [],
   "source": [
    "def construct_training_set(dataset, target_label='outgoing_to_predict'):\n",
    "    '''Make a training and testing set'''\n",
    "    training_sets = dict()\n",
    "    (\n",
    "        training_sets['X_train'], \n",
    "        training_sets['X_test'],\n",
    "        training_sets['y_train'],\n",
    "        training_sets['y_test']\n",
    "        ) = train_test_split(\n",
    "            dataset.drop(target_label, axis=1).to_numpy(), \n",
    "            dataset[target_label].to_numpy(), \n",
    "            test_size=0.2, random_state=0)\n",
    "    return training_sets\n",
    "\n",
    "def cross_validate_estimator(estimator, dataset, cv_number = 10):\n",
    "    '''Estimate the R^2 of the model and using cross validation'''\n",
    "    return cross_val_score(\n",
    "        estimator, \n",
    "        dataset['X_train'],\n",
    "        dataset['y_train'], \n",
    "        cv=cv_number,\n",
    "        )\n",
    "\n",
    "def model_residuals(estimator, testing_set):\n",
    "    '''Compute the residuals of the predicted value with of out-of-sample data.'''\n",
    "    return pd.DataFrame.from_dict({\n",
    "        'predicted_value': estimator.predict(testing_set['X_test']), \n",
    "        'residual' : testing_set['y_test'] - estimator.predict(testing_set['X_test'])\n",
    "    }\n",
    "        )"
   ]
  },
  {
   "cell_type": "code",
   "execution_count": 14,
   "metadata": {},
   "outputs": [],
   "source": [
    "TTS = TransactionsTimeSeries(\n",
    "    transactions_df=pd.read_csv('data/transactions.csv', parse_dates=['date']), \n",
    "    accounts_df=pd.read_csv('data/accounts.csv', parse_dates=['update_date'])\n",
    ")"
   ]
  },
  {
   "cell_type": "code",
   "execution_count": 15,
   "metadata": {},
   "outputs": [],
   "source": [
    "# Computes the absolute aggregated income and outcome from the provided transactions\n",
    "income_outcome_pairs = pd.DataFrame(\n",
    "    [\n",
    "        (\n",
    "            abs(TTS(account_id).incoming_transactions()().sum().amount),\n",
    "            TTS(account_id).balance.balance,\n",
    "            abs(TTS(account_id).outgoing_transactions()().sum().amount)\n",
    "        )\n",
    "        for account_id in list(TTS.accounts)\n",
    "    ], \n",
    "    columns = ['income', 'balance', 'outcome']\n",
    ")"
   ]
  },
  {
   "cell_type": "code",
   "execution_count": 16,
   "metadata": {},
   "outputs": [
    {
     "data": {
      "text/plain": [
       "<AxesSubplot:xlabel='income', ylabel='outcome'>"
      ]
     },
     "execution_count": 16,
     "metadata": {},
     "output_type": "execute_result"
    },
    {
     "data": {
      "image/png": "[encoded data removed]",
      "text/plain": [
       "<Figure size 432x288 with 1 Axes>"
      ]
     },
     "metadata": {
      "needs_background": "light"
     },
     "output_type": "display_data"
    }
   ],
   "source": [
    "income_outcome_pairs.plot(kind='scatter', x='income', y='outcome')\n",
    "# The relation of income and outcome seems pretty linear, let us measure how much."
   ]
  },
  {
   "cell_type": "code",
   "execution_count": 17,
   "metadata": {},
   "outputs": [
    {
     "data": {
      "text/plain": [
       "'The income is a predictor for outcome with a linear coeficient of around [0.98272277] within the in-sample data and and an intercept of -836.58'"
      ]
     },
     "execution_count": 17,
     "metadata": {},
     "output_type": "execute_result"
    }
   ],
   "source": [
    "ols_model = linear_model.LinearRegression()\n",
    "ols_model.fit(income_outcome_pairs.income.to_numpy().reshape(-1, 1), income_outcome_pairs.outcome.to_numpy())\n",
    "f'The income is a predictor for outcome with a linear coeficient of around {ols_model.coef_} within the in-sample data and and an intercept of {ols_model.intercept_:.2f}'"
   ]
  },
  {
   "cell_type": "code",
   "execution_count": 18,
   "metadata": {},
   "outputs": [],
   "source": [
    "income_outcome_pairs_training_sets = construct_training_set(income_outcome_pairs.drop('balance', axis=1), 'outcome')"
   ]
  },
  {
   "cell_type": "code",
   "execution_count": 19,
   "metadata": {},
   "outputs": [
    {
     "data": {
      "text/plain": [
       "'The income is a predictor for outcome with a determination coeficient of around 0.992 within the out-sample data'"
      ]
     },
     "execution_count": 19,
     "metadata": {},
     "output_type": "execute_result"
    }
   ],
   "source": [
    "ols_model.fit(\n",
    "    income_outcome_pairs_training_sets['X_train'], \n",
    "    income_outcome_pairs_training_sets['y_train']\n",
    ")\n",
    "ols_model_test_score = ols_model.score(\n",
    "    income_outcome_pairs_training_sets['X_test'],\n",
    "    income_outcome_pairs_training_sets['y_test']\n",
    ")\n",
    "f'The income is a predictor for outcome with a determination coeficient of around {ols_model_test_score:.3f} within the out-sample data'"
   ]
  },
  {
   "cell_type": "code",
   "execution_count": 20,
   "metadata": {},
   "outputs": [
    {
     "data": {
      "text/plain": [
       "'Estimated an R^2 of 0.981 with a standard deviation of 0.012'"
      ]
     },
     "execution_count": 20,
     "metadata": {},
     "output_type": "execute_result"
    }
   ],
   "source": [
    "cv_scores = cross_validate_estimator(linear_model.LinearRegression(), income_outcome_pairs_training_sets)\n",
    "f\"Estimated an R^2 of {cv_scores.mean():.3f} with a standard deviation of {cv_scores.std():.3f}\""
   ]
  },
  {
   "cell_type": "code",
   "execution_count": 21,
   "metadata": {},
   "outputs": [
    {
     "data": {
      "text/plain": [
       "'The variance of the residuals is 131656209.926'"
      ]
     },
     "execution_count": 21,
     "metadata": {},
     "output_type": "execute_result"
    },
    {
     "data": {
      "image/png": "[encoded data removed]",
      "text/plain": [
       "<Figure size 432x288 with 1 Axes>"
      ]
     },
     "metadata": {
      "needs_background": "light"
     },
     "output_type": "display_data"
    }
   ],
   "source": [
    "linear_residuals = model_residuals(ols_model, income_outcome_pairs_training_sets)\n",
    "linear_residuals.plot(kind='scatter', x='predicted_value', y='residual')\n",
    "# Some residuals are outliers.\n",
    "f'The variance of the residuals is {linear_residuals.residual.var():.3f}'"
   ]
  },
  {
   "cell_type": "code",
   "execution_count": 22,
   "metadata": {},
   "outputs": [
    {
     "data": {
      "image/png": "[encoded data removed]",
      "text/plain": [
       "<Figure size 432x288 with 1 Axes>"
      ]
     },
     "metadata": {
      "needs_background": "light"
     },
     "output_type": "display_data"
    }
   ],
   "source": [
    "sm.qqplot(linear_residuals.residual, line='q')\n",
    "plt.show()"
   ]
  },
  {
   "cell_type": "code",
   "execution_count": 23,
   "metadata": {},
   "outputs": [],
   "source": [
    "# I think i can try to add the `balance` as a feature and see if it reduces the outliers"
   ]
  },
  {
   "cell_type": "code",
   "execution_count": 24,
   "metadata": {},
   "outputs": [
    {
     "data": {
      "text/plain": [
       "'Estimated an R^2 of 0.987 with a standard deviation of 0.012'"
      ]
     },
     "execution_count": 24,
     "metadata": {},
     "output_type": "execute_result"
    }
   ],
   "source": [
    "# Estimate a model with the balance as additional feature using cross validation\n",
    "income_outcome_pairs_training_sets = construct_training_set(income_outcome_pairs, 'outcome')\n",
    "        \n",
    "cv_scores = cv_scores = cross_validate_estimator(linear_model.LinearRegression(), income_outcome_pairs_training_sets)\n",
    "f\"Estimated an R^2 of {cv_scores.mean():.3f} with a standard deviation of {cv_scores.std():.3f}\""
   ]
  },
  {
   "cell_type": "code",
   "execution_count": 25,
   "metadata": {},
   "outputs": [
    {
     "name": "stdout",
     "output_type": "stream",
     "text": [
      "The variance of the residuals is 17636690.222\n",
      "Variance was reduced on 86.604%\n"
     ]
    },
    {
     "data": {
      "image/png": "[encoded data removed]",
      "text/plain": [
       "<Figure size 432x288 with 1 Axes>"
      ]
     },
     "metadata": {
      "needs_background": "light"
     },
     "output_type": "display_data"
    }
   ],
   "source": [
    "ols_model_2 = linear_model.LinearRegression()\n",
    "ols_model_2.fit(income_outcome_pairs_training_sets['X_train'], income_outcome_pairs_training_sets['y_train'])\n",
    "\n",
    "linear_residuals_2 = model_residuals(ols_model_2, income_outcome_pairs_training_sets)\n",
    "linear_residuals_2.plot(kind='scatter', x='predicted_value', y='residual')\n",
    "print(f'The variance of the residuals is {linear_residuals_2.residual.var():.3f}')\n",
    "print(f'Variance was reduced on {100*(linear_residuals.residual.var()-linear_residuals_2.residual.var())/linear_residuals.residual.var():.3f}%')"
   ]
  },
  {
   "cell_type": "code",
   "execution_count": 26,
   "metadata": {},
   "outputs": [
    {
     "data": {
      "image/png": "[encoded data removed]",
      "text/plain": [
       "<Figure size 432x288 with 1 Axes>"
      ]
     },
     "metadata": {
      "needs_background": "light"
     },
     "output_type": "display_data"
    }
   ],
   "source": [
    "sm.qqplot(linear_residuals_2.residual, line='q')\n",
    "plt.show()"
   ]
  },
  {
   "cell_type": "code",
   "execution_count": 27,
   "metadata": {},
   "outputs": [
    {
     "data": {
      "text/plain": [
       "'The income and balance are predictors for outgoing with a linear coeficient of around [ 0.99601155 -0.74640318] within the in-sample data and and an intercept of 296.14'"
      ]
     },
     "execution_count": 27,
     "metadata": {},
     "output_type": "execute_result"
    }
   ],
   "source": [
    "f'The income and balance are predictors for outgoing with a linear coeficient of around {ols_model_2.coef_} within the in-sample data and and an intercept of {ols_model_2.intercept_:.2f}'"
   ]
  },
  {
   "cell_type": "code",
   "execution_count": 28,
   "metadata": {},
   "outputs": [],
   "source": [
    "# Conclusion : The aggregated incoming and the current balance are strong linear predictors for the aggregated outgoing."
   ]
  },
  {
   "cell_type": "markdown",
   "metadata": {},
   "source": [
    "## Prediction using linear model"
   ]
  },
  {
   "cell_type": "code",
   "execution_count": 29,
   "metadata": {},
   "outputs": [],
   "source": [
    "# In which measure can we predict the coming month based on previous transactions using this kind of linear model ? \n",
    "# And which features we may add to improve this prediction ? "
   ]
  },
  {
   "cell_type": "code",
   "execution_count": 30,
   "metadata": {},
   "outputs": [],
   "source": [
    "# Let us learn a model using `n` days and testing on the coming 30 days\n",
    "@lru_cache\n",
    "def compute_incoming_outgoing_training_dataset(number_of_days):\n",
    "    periods = [f'{day}d' for day in (1,5,7,10,14,30,45,50,60)]\n",
    "    return pd.DataFrame(\n",
    "        [\n",
    "            (\n",
    "                TTS(account_id).transactions_after_n_days(number_of_days).incoming_transactions()().sum().amount, \n",
    "                # The sum of incoming transactions\n",
    "                TTS(account_id).transactions_after_n_days(number_of_days).outgoing_transactions()().sum().amount, \n",
    "                # The sum of outgoing transactions\n",
    "                TTS(account_id).transactions_after_n_days(number_of_days)().sum().amount, \n",
    "                # This should be a proxy of the balance, \n",
    "                # that is the sum of outgoing and incoming transactions up to the cut date `n`\n",
    "                TTS(account_id).transactions_after_n_days(number_of_days)().cumsum().mean().amount,\n",
    "                # The mean balance \n",
    "                *[TTS(account_id).transactions_after_n_days(number_of_days).incoming_transactions(\n",
    "                    ).resample('d').sum().rolling(period).sum().dropna().mean().amount \n",
    "                    for period in periods],\n",
    "                # The rolling mean of incoming transactions at various periods\n",
    "                *[TTS(account_id).transactions_after_n_days(number_of_days).outgoing_transactions(\n",
    "                    ).resample('d').sum().rolling(period).sum().dropna().mean().amount \n",
    "                    for period in periods],\n",
    "                # The rolling mean of outgoing transactions at various periods\n",
    "                *tuple(TTS(account_id).transactions_after_n_days(number_of_days).incoming_transactions(\n",
    "                    ).resample('30d').sum().dropna().amount.to_numpy()),\n",
    "                # The sum of incoming transactions on snapshots of 30 days\n",
    "                *tuple(TTS(account_id).transactions_after_n_days(number_of_days).outgoing_transactions(\n",
    "                    ).resample('30d').sum().dropna().amount.to_numpy()),\n",
    "                # The sum of outgoing transactions on snapshots of 30 days. \n",
    "                TTS(account_id).transactions_from_n_to_m_days(\n",
    "                    number_of_days,number_of_days+30).outgoing_transactions()().sum().amount\n",
    "                # The sum of outgoing transactions on the 30 days after the cut date `n`, that is the label to predict\n",
    "            )\n",
    "            for account_id in tqdm(TTS.accounts)\n",
    "        ], \n",
    "        columns = [\n",
    "            'incoming_sum', \n",
    "            'outgoing_sum',\n",
    "            'estimated_balance',\n",
    "            'mean_balance',\n",
    "            *[f'income_{period}_rolling_mean' for period in periods],\n",
    "            *[f'outcome_{period}_rolling_mean' for period in periods],\n",
    "            *[f'monthly_incoming_{i}' for i in range(number_of_days//30)],\n",
    "            *[f'monthly_outgoing_{i}' for i in range(number_of_days//30)],\n",
    "            'outgoing_to_predict'\n",
    "            ]\n",
    "    ).dropna()"
   ]
  },
  {
   "cell_type": "code",
   "execution_count": 31,
   "metadata": {},
   "outputs": [
    {
     "name": "stderr",
     "output_type": "stream",
     "text": [
      "100%|██████████| 823/823 [05:23<00:00,  2.55it/s]\n"
     ]
    }
   ],
   "source": [
    "# Create the dataset for `n=180-30=150`\n",
    "incoming_outgoing_after_n_days = compute_incoming_outgoing_training_dataset(150)"
   ]
  },
  {
   "cell_type": "code",
   "execution_count": 32,
   "metadata": {},
   "outputs": [],
   "source": [
    "# Split on train and test dataset\n",
    "income_outcome_pairs_training_sets = construct_training_set(incoming_outgoing_after_n_days, 'outgoing_to_predict')"
   ]
  },
  {
   "cell_type": "code",
   "execution_count": 33,
   "metadata": {},
   "outputs": [
    {
     "data": {
      "text/plain": [
       "'Estimated an R^2 of 0.393 with a standard deviation of 0.209'"
      ]
     },
     "execution_count": 33,
     "metadata": {},
     "output_type": "execute_result"
    }
   ],
   "source": [
    "# Estimate R^2 of a Ridge regression model (for regularization) and it's standard deviation\n",
    "cv_scores = cross_validate_estimator(linear_model.Ridge(), income_outcome_pairs_training_sets)\n",
    "\n",
    "f\"Estimated an R^2 of {cv_scores.mean():.3f} with a standard deviation of {cv_scores.std():.3f}\""
   ]
  },
  {
   "cell_type": "code",
   "execution_count": 34,
   "metadata": {},
   "outputs": [
    {
     "name": "stdout",
     "output_type": "stream",
     "text": [
      "The variance of the residuals is 78044605.127\n"
     ]
    },
    {
     "data": {
      "image/png": "[encoded data removed]",
      "text/plain": [
       "<Figure size 432x288 with 1 Axes>"
      ]
     },
     "metadata": {
      "needs_background": "light"
     },
     "output_type": "display_data"
    }
   ],
   "source": [
    "# Estimate the residuals\n",
    "ols_model_3 = linear_model.Ridge()\n",
    "ols_model_3.fit(\n",
    "    income_outcome_pairs_training_sets['X_train'], \n",
    "    income_outcome_pairs_training_sets['y_train'])\n",
    "linear_residuals_3 = model_residuals(ols_model_3, income_outcome_pairs_training_sets)\n",
    "linear_residuals_3.plot(kind='scatter', x='predicted_value', y='residual')\n",
    "print(f'The variance of the residuals is {linear_residuals_3.residual.var():.3f}')"
   ]
  },
  {
   "cell_type": "code",
   "execution_count": 35,
   "metadata": {},
   "outputs": [],
   "source": [
    "# Estimate the feature importance using the testing set\n",
    "r = permutation_importance(\n",
    "    ols_model_3, \n",
    "    income_outcome_pairs_training_sets['X_test'], \n",
    "    income_outcome_pairs_training_sets['y_test'],\n",
    "    n_repeats=50,\n",
    "    random_state=0)"
   ]
  },
  {
   "cell_type": "code",
   "execution_count": 36,
   "metadata": {},
   "outputs": [
    {
     "data": {
      "text/plain": [
       "<AxesSubplot:>"
      ]
     },
     "execution_count": 36,
     "metadata": {},
     "output_type": "execute_result"
    },
    {
     "data": {
      "image/png": "[encoded data removed]",
      "text/plain": [
       "<Figure size 432x288 with 1 Axes>"
      ]
     },
     "metadata": {
      "needs_background": "light"
     },
     "output_type": "display_data"
    }
   ],
   "source": [
    "feature_importance = pd.DataFrame(\n",
    "    [\n",
    "        r.importances_mean,\n",
    "        r.importances_std\n",
    "        ], columns= incoming_outgoing_after_n_days.columns[0:-1], \n",
    "        index=['mean','std']).transpose().sort_values('mean', ascending=False\n",
    "        )\n",
    "feature_importance.head(15)[::-1].plot.barh(y='mean', xerr='std')\n",
    "# The most important features are rolling means of the income and outcome signals with different periods. "
   ]
  },
  {
   "cell_type": "code",
   "execution_count": 37,
   "metadata": {},
   "outputs": [
    {
     "data": {
      "image/png": "[encoded data removed]",
      "text/plain": [
       "<Figure size 432x288 with 1 Axes>"
      ]
     },
     "metadata": {
      "needs_background": "light"
     },
     "output_type": "display_data"
    }
   ],
   "source": [
    "sm.qqplot(linear_residuals_3.residual, line='q')\n",
    "plt.show()"
   ]
  },
  {
   "cell_type": "code",
   "execution_count": 38,
   "metadata": {},
   "outputs": [
    {
     "data": {
      "text/plain": [
       "'Conclusion: We may estimate the upcoming month based on previous observations with an R^2 of up to 0.393 . But the choice of features is somewhat arbitrary and the residuals are not normally distributed'"
      ]
     },
     "execution_count": 38,
     "metadata": {},
     "output_type": "execute_result"
    }
   ],
   "source": [
    "f'Conclusion: We may estimate the upcoming month based on previous observations with an R^2 of up to {cv_scores.mean():.3f} . \\\n",
    "But the choice of features is somewhat arbitrary and the residuals are not normally distributed'"
   ]
  },
  {
   "cell_type": "markdown",
   "metadata": {},
   "source": [
    "## Non linear models"
   ]
  },
  {
   "cell_type": "code",
   "execution_count": 39,
   "metadata": {},
   "outputs": [],
   "source": [
    "# Using the same features, how well can a non linear estimator perform ?"
   ]
  },
  {
   "cell_type": "code",
   "execution_count": 40,
   "metadata": {},
   "outputs": [
    {
     "name": "stderr",
     "output_type": "stream",
     "text": [
      "100%|██████████| 6/6 [00:13<00:00,  2.19s/it]\n"
     ]
    }
   ],
   "source": [
    "estimators = {\n",
    "    'LinearRegression' : linear_model.LinearRegression(),\n",
    "    'Ridge' : linear_model.Ridge(),\n",
    "    'KNeighborsRegressor' : KNeighborsRegressor(n_neighbors=5), \n",
    "    'GradientBoostingRegressor' : GradientBoostingRegressor(), \n",
    "    'RandomForestRegressor': RandomForestRegressor(), \n",
    "    'MLPRegressor' : MLPRegressor(hidden_layer_sizes=(100,100,100), max_iter=500)\n",
    "}\n",
    "cv_scores = {}\n",
    "residuals = {}\n",
    "for estimator_name, estimator in tqdm(estimators.items()):\n",
    "    cv_scores[estimator_name] = cross_validate_estimator(estimator, income_outcome_pairs_training_sets, cv_number=5)\n",
    "    estimator.fit(income_outcome_pairs_training_sets['X_train'], income_outcome_pairs_training_sets['y_train'])\n",
    "    residuals[estimator_name] = model_residuals(estimator, income_outcome_pairs_training_sets)"
   ]
  },
  {
   "cell_type": "code",
   "execution_count": 41,
   "metadata": {},
   "outputs": [
    {
     "data": {
      "text/plain": [
       "<AxesSubplot:title={'center':'R^2 score of predicted values and the \\n held off cross-validation testing set for various models'}>"
      ]
     },
     "execution_count": 41,
     "metadata": {},
     "output_type": "execute_result"
    },
    {
     "data": {
      "image/png": "[encoded data removed]",
      "text/plain": [
       "<Figure size 432x288 with 1 Axes>"
      ]
     },
     "metadata": {
      "needs_background": "light"
     },
     "output_type": "display_data"
    }
   ],
   "source": [
    "cv_scores_df = pd.DataFrame.from_dict(cv_scores, orient='columns')\n",
    "mean_model_cv_scores = cv_scores_df.agg(['mean','std']).transpose().sort_values('mean', ascending=False)\n",
    "mean_model_cv_scores[::-1].plot.barh(y = \"mean\", xerr = \"std\", \n",
    "title='R^2 score of predicted values and the \\n held off cross-validation testing set for various models', \n",
    "legend=None)\n",
    "# Ensemble models such as GBR or RFR can outperform the linear models since they perform feature selection automatically. \n",
    "# A linear model trained with the top5 important features can perform similarly. "
   ]
  },
  {
   "cell_type": "code",
   "execution_count": 46,
   "metadata": {},
   "outputs": [
    {
     "name": "stdout",
     "output_type": "stream",
     "text": [
      "RFR model achieve as much as 0.574 R^2 score on cross-validation\n"
     ]
    },
    {
     "data": {
      "text/html": [
       "<div>\n",
       "<style scoped>\n",
       "    .dataframe tbody tr th:only-of-type {\n",
       "        vertical-align: middle;\n",
       "    }\n",
       "\n",
       "    .dataframe tbody tr th {\n",
       "        vertical-align: top;\n",
       "    }\n",
       "\n",
       "    .dataframe thead th {\n",
       "        text-align: right;\n",
       "    }\n",
       "</style>\n",
       "<table border=\"1\" class=\"dataframe\">\n",
       "  <thead>\n",
       "    <tr style=\"text-align: right;\">\n",
       "      <th></th>\n",
       "      <th>mean</th>\n",
       "      <th>std</th>\n",
       "    </tr>\n",
       "  </thead>\n",
       "  <tbody>\n",
       "    <tr>\n",
       "      <th>RandomForestRegressor</th>\n",
       "      <td>0.573995</td>\n",
       "      <td>0.087381</td>\n",
       "    </tr>\n",
       "    <tr>\n",
       "      <th>GradientBoostingRegressor</th>\n",
       "      <td>0.534684</td>\n",
       "      <td>0.112826</td>\n",
       "    </tr>\n",
       "    <tr>\n",
       "      <th>MLPRegressor</th>\n",
       "      <td>0.480565</td>\n",
       "      <td>0.246332</td>\n",
       "    </tr>\n",
       "    <tr>\n",
       "      <th>KNeighborsRegressor</th>\n",
       "      <td>0.473837</td>\n",
       "      <td>0.153724</td>\n",
       "    </tr>\n",
       "    <tr>\n",
       "      <th>Ridge</th>\n",
       "      <td>0.424033</td>\n",
       "      <td>0.143198</td>\n",
       "    </tr>\n",
       "    <tr>\n",
       "      <th>LinearRegression</th>\n",
       "      <td>0.423534</td>\n",
       "      <td>0.143272</td>\n",
       "    </tr>\n",
       "  </tbody>\n",
       "</table>\n",
       "</div>"
      ],
      "text/plain": [
       "                               mean       std\n",
       "RandomForestRegressor      0.573995  0.087381\n",
       "GradientBoostingRegressor  0.534684  0.112826\n",
       "MLPRegressor               0.480565  0.246332\n",
       "KNeighborsRegressor        0.473837  0.153724\n",
       "Ridge                      0.424033  0.143198\n",
       "LinearRegression           0.423534  0.143272"
      ]
     },
     "execution_count": 46,
     "metadata": {},
     "output_type": "execute_result"
    }
   ],
   "source": [
    "print(f'RFR model achieve as much as {mean_model_cv_scores.iloc[0,0]:.3f} R^2 score on cross-validation')\n",
    "mean_model_cv_scores"
   ]
  },
  {
   "cell_type": "code",
   "execution_count": 43,
   "metadata": {},
   "outputs": [
    {
     "data": {
      "text/plain": [
       "<AxesSubplot:title={'center':'Mean Average Error on the testing set for various models'}>"
      ]
     },
     "execution_count": 43,
     "metadata": {},
     "output_type": "execute_result"
    },
    {
     "data": {
      "image/png": "[encoded data removed]",
      "text/plain": [
       "<Figure size 432x288 with 1 Axes>"
      ]
     },
     "metadata": {
      "needs_background": "light"
     },
     "output_type": "display_data"
    }
   ],
   "source": [
    "pd.DataFrame.from_dict({\n",
    "    estimator_name: residuals[estimator_name].residual.apply(abs).mean()\n",
    "    for estimator_name in residuals.keys()\n",
    "    }, orient='index', columns=['mae']).sort_values('mae', ascending=False).plot.barh(\n",
    "        title='Mean Average Error on the testing set for various models',\n",
    "        legend=None)\n",
    "# In terms of Mean Average Error, the ensemble models perform best next to the linear regression models."
   ]
  },
  {
   "cell_type": "code",
   "execution_count": 52,
   "metadata": {},
   "outputs": [
    {
     "name": "stdout",
     "output_type": "stream",
     "text": [
      "Fitting 5 folds for each of 500 candidates, totalling 2500 fits\n"
     ]
    }
   ],
   "source": [
    "# Can I further gain R^2 score by doing hyperparameter exploration ?\n",
    "estimator = RandomForestRegressor()\n",
    "parameter_space = {\n",
    "    'n_estimators': randint(1,1000), \n",
    "    'max_depth': randint(1,100),\n",
    "    'min_samples_split': uniform(0.01,0.99),\n",
    "    'max_features': ['auto', 'sqrt', 'log2'],\n",
    "    'bootstrap': [True, False],\n",
    "}\n",
    "# Doing a Randomized Search of parameters with cross-validation\n",
    "rscv = RandomizedSearchCV(estimator, parameter_space, random_state=0, n_jobs=-1, return_train_score=True, verbose=1, n_iter=500)\n",
    "search = rscv.fit(income_outcome_pairs_training_sets['X_train'], income_outcome_pairs_training_sets['y_train'])"
   ]
  },
  {
   "cell_type": "code",
   "execution_count": 111,
   "metadata": {},
   "outputs": [
    {
     "name": "stdout",
     "output_type": "stream",
     "text": [
      "{'bootstrap': True, 'max_depth': 83, 'max_features': 'auto', 'min_samples_split': 0.043433851509655966, 'n_estimators': 868} \n",
      "Best Score : 0.573147+/-0.089633\n"
     ]
    },
    {
     "data": {
      "text/plain": [
       "'I can find an epsilon-similar estimator with up to 0.573 R^2 score'"
      ]
     },
     "execution_count": 111,
     "metadata": {},
     "output_type": "execute_result"
    }
   ],
   "source": [
    "cv_std_test_score = search.cv_results_['std_test_score'][search.best_index_]\n",
    "print(\n",
    "    search.best_params_, \n",
    "    f'\\nBest Score : {search.best_score_:.6f}+/-{cv_std_test_score:.6f}'\n",
    "    )\n",
    "f'I can find an epsilon-similar estimator with up to {search.best_score_:.3f} R^2 score'"
   ]
  },
  {
   "cell_type": "markdown",
   "metadata": {},
   "source": [
    "## Time Series"
   ]
  },
  {
   "cell_type": "code",
   "execution_count": null,
   "metadata": {},
   "outputs": [],
   "source": [
    "# Observation 2: Feature importance suggests the importance of rolling means of the signal in previous time steps to predict \n",
    "# the upcoming ones. This can be an autoregressive model.\n",
    "# How good can we predict using time series models ?\n",
    "# Idea 2 : Use ARIMA model"
   ]
  },
  {
   "cell_type": "code",
   "execution_count": 79,
   "metadata": {},
   "outputs": [],
   "source": [
    "# Are observations stationary ? \n",
    "def try_adfuller(timeseries):\n",
    "    try:\n",
    "        return adfuller(timeseries)[0:2]\n",
    "    except ValueError:\n",
    "        print('ValueError during adfuller computation, passing')"
   ]
  },
  {
   "cell_type": "code",
   "execution_count": 80,
   "metadata": {},
   "outputs": [
    {
     "data": {
      "text/html": [
       "<div>\n",
       "<style scoped>\n",
       "    .dataframe tbody tr th:only-of-type {\n",
       "        vertical-align: middle;\n",
       "    }\n",
       "\n",
       "    .dataframe tbody tr th {\n",
       "        vertical-align: top;\n",
       "    }\n",
       "\n",
       "    .dataframe thead th {\n",
       "        text-align: right;\n",
       "    }\n",
       "</style>\n",
       "<table border=\"1\" class=\"dataframe\">\n",
       "  <thead>\n",
       "    <tr style=\"text-align: right;\">\n",
       "      <th></th>\n",
       "      <th>count</th>\n",
       "      <th>mean</th>\n",
       "      <th>std</th>\n",
       "      <th>min</th>\n",
       "      <th>10%</th>\n",
       "      <th>20%</th>\n",
       "      <th>30%</th>\n",
       "      <th>40%</th>\n",
       "      <th>50%</th>\n",
       "      <th>60%</th>\n",
       "      <th>70%</th>\n",
       "      <th>80%</th>\n",
       "      <th>90%</th>\n",
       "      <th>95%</th>\n",
       "      <th>99%</th>\n",
       "      <th>max</th>\n",
       "    </tr>\n",
       "  </thead>\n",
       "  <tbody>\n",
       "    <tr>\n",
       "      <th>pvalue</th>\n",
       "      <td>823.0</td>\n",
       "      <td>0.002682</td>\n",
       "      <td>0.042921</td>\n",
       "      <td>0.0</td>\n",
       "      <td>0.0</td>\n",
       "      <td>7.281726e-30</td>\n",
       "      <td>2.620172e-26</td>\n",
       "      <td>3.472017e-22</td>\n",
       "      <td>1.500338e-19</td>\n",
       "      <td>5.370772e-17</td>\n",
       "      <td>1.438233e-14</td>\n",
       "      <td>1.850630e-12</td>\n",
       "      <td>1.663908e-09</td>\n",
       "      <td>2.463629e-07</td>\n",
       "      <td>0.000591</td>\n",
       "      <td>0.928566</td>\n",
       "    </tr>\n",
       "  </tbody>\n",
       "</table>\n",
       "</div>"
      ],
      "text/plain": [
       "        count      mean       std  min  10%           20%           30%  \\\n",
       "pvalue  823.0  0.002682  0.042921  0.0  0.0  7.281726e-30  2.620172e-26   \n",
       "\n",
       "                 40%           50%           60%           70%           80%  \\\n",
       "pvalue  3.472017e-22  1.500338e-19  5.370772e-17  1.438233e-14  1.850630e-12   \n",
       "\n",
       "                 90%           95%       99%       max  \n",
       "pvalue  1.663908e-09  2.463629e-07  0.000591  0.928566  "
      ]
     },
     "execution_count": 80,
     "metadata": {},
     "output_type": "execute_result"
    }
   ],
   "source": [
    "# Use ADFuller to test for stationarity\n",
    "stationary_pvalues = pd.DataFrame(\n",
    "    [\n",
    "        try_adfuller(TTS(account_id).resample('d').sum())[0:2] for account_id in TTS.accounts\n",
    "    ],\n",
    "    columns = ['adf', 'pvalue']\n",
    ")\n",
    "stationary_pvalues[['pvalue']].describe(percentiles=list(np.arange(0.1,1,0.1))+[0.95,0.99]).transpose()\n",
    "# Up to 99% of the timeseries are stationary"
   ]
  },
  {
   "cell_type": "code",
   "execution_count": 78,
   "metadata": {},
   "outputs": [
    {
     "name": "stdout",
     "output_type": "stream",
     "text": [
      "ValueError during adfuller computation, passing\n",
      "ValueError during adfuller computation, passing\n",
      "ValueError during adfuller computation, passing\n"
     ]
    },
    {
     "data": {
      "text/html": [
       "<div>\n",
       "<style scoped>\n",
       "    .dataframe tbody tr th:only-of-type {\n",
       "        vertical-align: middle;\n",
       "    }\n",
       "\n",
       "    .dataframe tbody tr th {\n",
       "        vertical-align: top;\n",
       "    }\n",
       "\n",
       "    .dataframe thead th {\n",
       "        text-align: right;\n",
       "    }\n",
       "</style>\n",
       "<table border=\"1\" class=\"dataframe\">\n",
       "  <thead>\n",
       "    <tr style=\"text-align: right;\">\n",
       "      <th></th>\n",
       "      <th>count</th>\n",
       "      <th>mean</th>\n",
       "      <th>std</th>\n",
       "      <th>min</th>\n",
       "      <th>10%</th>\n",
       "      <th>20%</th>\n",
       "      <th>30%</th>\n",
       "      <th>40%</th>\n",
       "      <th>50%</th>\n",
       "      <th>60%</th>\n",
       "      <th>70%</th>\n",
       "      <th>80%</th>\n",
       "      <th>90%</th>\n",
       "      <th>95%</th>\n",
       "      <th>99%</th>\n",
       "      <th>max</th>\n",
       "    </tr>\n",
       "  </thead>\n",
       "  <tbody>\n",
       "    <tr>\n",
       "      <th>pvalue</th>\n",
       "      <td>820.0</td>\n",
       "      <td>0.022966</td>\n",
       "      <td>0.114065</td>\n",
       "      <td>0.0</td>\n",
       "      <td>0.0</td>\n",
       "      <td>0.0</td>\n",
       "      <td>3.035082e-30</td>\n",
       "      <td>3.793198e-28</td>\n",
       "      <td>3.627373e-25</td>\n",
       "      <td>1.802880e-17</td>\n",
       "      <td>9.177549e-09</td>\n",
       "      <td>0.000066</td>\n",
       "      <td>0.007815</td>\n",
       "      <td>0.093985</td>\n",
       "      <td>0.729584</td>\n",
       "      <td>0.991107</td>\n",
       "    </tr>\n",
       "  </tbody>\n",
       "</table>\n",
       "</div>"
      ],
      "text/plain": [
       "        count      mean       std  min  10%  20%           30%           40%  \\\n",
       "pvalue  820.0  0.022966  0.114065  0.0  0.0  0.0  3.035082e-30  3.793198e-28   \n",
       "\n",
       "                 50%           60%           70%       80%       90%  \\\n",
       "pvalue  3.627373e-25  1.802880e-17  9.177549e-09  0.000066  0.007815   \n",
       "\n",
       "             95%       99%       max  \n",
       "pvalue  0.093985  0.729584  0.991107  "
      ]
     },
     "execution_count": 78,
     "metadata": {},
     "output_type": "execute_result"
    }
   ],
   "source": [
    "# Is it the same for the outgoing transactions only ? \n",
    "stationary_pvalues = pd.DataFrame(\n",
    "    [\n",
    "        try_adfuller(TTS(account_id).outgoing_transactions().resample('d').sum()) for account_id in TTS.accounts\n",
    "    ],\n",
    "    columns = ['adf', 'pvalue']\n",
    ")\n",
    "stationary_pvalues[['pvalue']].describe(percentiles=list(np.arange(0.1,1,0.1))+[0.95,0.99]).transpose()\n",
    "# Up to 95% of the outgoing transactions timeseries are stationary"
   ]
  },
  {
   "cell_type": "code",
   "execution_count": 309,
   "metadata": {},
   "outputs": [
    {
     "name": "stderr",
     "output_type": "stream",
     "text": [
      "100%|██████████| 823/823 [01:04<00:00, 12.81it/s]\n"
     ]
    }
   ],
   "source": [
    "# Create a held out validation and a testing set dataset of outgoing transactions\n",
    "timeseries_training_dataset = {\n",
    "    account_id: {\n",
    "        'train' : TTS(account_id).transactions_after_n_days(120).outgoing_transactions().resample('d').sum(),\n",
    "        'validation' : TTS(account_id).transactions_from_n_to_m_days(120, 150).outgoing_transactions().resample('d').sum(),\n",
    "        'test': TTS(account_id).transactions_from_n_to_m_days(150, 180).outgoing_transactions().resample('d').sum()\n",
    "    } for account_id in tqdm(TTS.accounts)\n",
    "}"
   ]
  },
  {
   "cell_type": "code",
   "execution_count": 577,
   "metadata": {},
   "outputs": [],
   "source": [
    "# Test different ARIMA orders and compute quality measures\n",
    "def compute_quality_measures(model, prediction_comparison):\n",
    "    '''\n",
    "    Computes : \n",
    "    aic - Akaike information criterion of the model\n",
    "    mse - The means squared error of the forecast (out of sample) and the timeseries\n",
    "    mae - The man absolute error of the forecast (out of sample) and the timeseries\n",
    "    mape - The mean absolute percentage error of the forecast (out of sample) and the timeseries\n",
    "    ape - The absolute percentage error of the aggregates of the forecast (out of sample) and the timeseries\n",
    "    residue - The difference between the aggregates of the signal and the forecast\n",
    "    target_value - The signal aggregate\n",
    "    predicted_value - The forecast aggregate\n",
    "    '''\n",
    "    return {\n",
    "        'aic': model.aic, \n",
    "        'mse': mean_squared_error(prediction_comparison.iloc[:,0], prediction_comparison.iloc[:,1]),\n",
    "        'mae': mean_absolute_error(prediction_comparison.iloc[:,0], prediction_comparison.iloc[:,1]), \n",
    "        'mape': mean_absolute_percentage_error(prediction_comparison.iloc[:,0], prediction_comparison.iloc[:,1]),\n",
    "        'ape' : abs(abs(prediction_comparison.iloc[:,0].sum()) - \n",
    "        abs(prediction_comparison.iloc[:,1].sum()))/abs(prediction_comparison.iloc[:,0].sum()),\n",
    "        'residue': prediction_comparison.iloc[:,0].sum() - prediction_comparison.iloc[:,1].sum(),\n",
    "        'target_value': prediction_comparison.iloc[:,0].sum(),\n",
    "        'predicted_value': prediction_comparison.iloc[:,1].sum(),\n",
    "        }\n",
    "\n",
    "def optimize_arima_order(timeseries_train, timeseries_validation, order_space):\n",
    "    '''\n",
    "    Compute quality measures of a ARIMA models on orders belonging to the order_space \n",
    "    using a timeseries for training and a timeseries for validation.\n",
    "    '''\n",
    "    optimization_results = {}\n",
    "    for order in order_space:\n",
    "        try:\n",
    "            model = ARIMA(timeseries_train, order=order).fit()\n",
    "            prediction_comparison = pd.concat([timeseries_validation, model.forecast(30)], axis=1).fillna(0)\n",
    "            optimization_results[order] = compute_quality_measures(model, prediction_comparison)\n",
    "        except np.linalg.LinAlgError:\n",
    "            continue\n",
    "        except (IndexError, ValueError):\n",
    "            continue\n",
    "    return optimization_results\n",
    "\n",
    "def optimize_arima_order_of_dataset(timeseries_training_dataset, order_space, criterium='aic'):\n",
    "    ''' \n",
    "    Given a collection of timeseries, it computes the quality measures of a given order_space \n",
    "    then it choses the one that minimizes a given criterium member of \n",
    "    ['aic', 'mse', 'mae', 'mape', 'ape', 'residue', 'target_value', 'predicted_value']\n",
    "    then it trains an arima model with the optimized_order for each timeseries and computes \n",
    "    quality measures on a test set (out of sample)\n",
    "    '''\n",
    "    optimization_results_dataset = {}\n",
    "    for account_id, timeseries in tqdm(timeseries_training_dataset.items(), desc='training_examples', position=0):\n",
    "        optimization_results = optimize_arima_order(timeseries['train'], timeseries['validation'], order_space)\n",
    "        if len(optimization_results) > 0:\n",
    "            optimization_results_df = pd.DataFrame.from_dict(optimization_results, orient='index').sort_values(criterium)\n",
    "            for optimized_order in list(optimization_results_df.index):\n",
    "                try:\n",
    "                    timeseries_train_validation = pd.concat([\n",
    "                        timeseries['train'],\n",
    "                        timeseries['validation']]).resample('d').sum()\n",
    "                    model = ARIMA(\n",
    "                        timeseries_train_validation,\n",
    "                        order=optimized_order\n",
    "                        ).fit()\n",
    "                    prediction_comparison = pd.concat([timeseries['test'], model.forecast(30)], axis=1).fillna(0)\n",
    "                    optimization_results_dataset[account_id] = {\n",
    "                        'optimized_order': optimized_order,\n",
    "                        **compute_quality_measures(model, prediction_comparison)\n",
    "                    }\n",
    "                    break\n",
    "                except np.linalg.LinAlgError:\n",
    "                    continue\n",
    "                except ValueError:\n",
    "                    continue\n",
    "    return optimization_results_dataset\n"
   ]
  },
  {
   "cell_type": "code",
   "execution_count": 578,
   "metadata": {},
   "outputs": [],
   "source": [
    "# A order space for (p, d, q)\n",
    "order_space = list(product(range(0,4), range(0,2), range(0,4)))"
   ]
  },
  {
   "cell_type": "code",
   "execution_count": 581,
   "metadata": {},
   "outputs": [
    {
     "name": "stderr",
     "output_type": "stream",
     "text": [
      "training_examples: 100%|██████████| 822/822 [1:55:08<00:00,  8.40s/it]\n"
     ]
    }
   ],
   "source": [
    "warnings.filterwarnings(\"ignore\")\n",
    "# Find the best order in terms of aic for each time series\n",
    "optimization_results = optimize_arima_order_of_dataset(\n",
    "    timeseries_training_dataset, \n",
    "    order_space, \n",
    "    criterium='aic')"
   ]
  },
  {
   "cell_type": "code",
   "execution_count": 584,
   "metadata": {},
   "outputs": [
    {
     "data": {
      "text/html": [
       "<div>\n",
       "<style scoped>\n",
       "    .dataframe tbody tr th:only-of-type {\n",
       "        vertical-align: middle;\n",
       "    }\n",
       "\n",
       "    .dataframe tbody tr th {\n",
       "        vertical-align: top;\n",
       "    }\n",
       "\n",
       "    .dataframe thead th {\n",
       "        text-align: right;\n",
       "    }\n",
       "</style>\n",
       "<table border=\"1\" class=\"dataframe\">\n",
       "  <thead>\n",
       "    <tr style=\"text-align: right;\">\n",
       "      <th></th>\n",
       "      <th>optimized_order</th>\n",
       "      <th>aic</th>\n",
       "      <th>mse</th>\n",
       "      <th>mae</th>\n",
       "      <th>mape</th>\n",
       "      <th>ape</th>\n",
       "      <th>residue</th>\n",
       "      <th>target_value</th>\n",
       "      <th>predicted_value</th>\n",
       "    </tr>\n",
       "  </thead>\n",
       "  <tbody>\n",
       "    <tr>\n",
       "      <th>0</th>\n",
       "      <td>(3, 0, 3)</td>\n",
       "      <td>16.000000</td>\n",
       "      <td>3.126669e+04</td>\n",
       "      <td>86.284769</td>\n",
       "      <td>1.867593e+17</td>\n",
       "      <td>0.017335</td>\n",
       "      <td>27.478819</td>\n",
       "      <td>-1585.20</td>\n",
       "      <td>-1612.678819</td>\n",
       "    </tr>\n",
       "    <tr>\n",
       "      <th>1</th>\n",
       "      <td>(0, 1, 1)</td>\n",
       "      <td>2115.073209</td>\n",
       "      <td>8.607606e+05</td>\n",
       "      <td>355.876246</td>\n",
       "      <td>6.173176e+17</td>\n",
       "      <td>0.319871</td>\n",
       "      <td>-2292.137087</td>\n",
       "      <td>-7165.81</td>\n",
       "      <td>-4873.672913</td>\n",
       "    </tr>\n",
       "    <tr>\n",
       "      <th>4</th>\n",
       "      <td>(0, 1, 1)</td>\n",
       "      <td>2325.456662</td>\n",
       "      <td>5.076062e+05</td>\n",
       "      <td>432.387080</td>\n",
       "      <td>2.527708e+00</td>\n",
       "      <td>0.293745</td>\n",
       "      <td>-4819.321515</td>\n",
       "      <td>-16406.46</td>\n",
       "      <td>-11587.138485</td>\n",
       "    </tr>\n",
       "    <tr>\n",
       "      <th>7</th>\n",
       "      <td>(1, 1, 2)</td>\n",
       "      <td>1619.591666</td>\n",
       "      <td>2.719323e+05</td>\n",
       "      <td>138.929241</td>\n",
       "      <td>9.232641e+16</td>\n",
       "      <td>0.590447</td>\n",
       "      <td>-2184.466629</td>\n",
       "      <td>-3699.68</td>\n",
       "      <td>-1515.213371</td>\n",
       "    </tr>\n",
       "    <tr>\n",
       "      <th>8</th>\n",
       "      <td>(0, 1, 1)</td>\n",
       "      <td>1817.329387</td>\n",
       "      <td>4.027833e+03</td>\n",
       "      <td>52.639380</td>\n",
       "      <td>1.833374e+17</td>\n",
       "      <td>1.670653</td>\n",
       "      <td>996.494257</td>\n",
       "      <td>-596.47</td>\n",
       "      <td>-1592.964257</td>\n",
       "    </tr>\n",
       "    <tr>\n",
       "      <th>...</th>\n",
       "      <td>...</td>\n",
       "      <td>...</td>\n",
       "      <td>...</td>\n",
       "      <td>...</td>\n",
       "      <td>...</td>\n",
       "      <td>...</td>\n",
       "      <td>...</td>\n",
       "      <td>...</td>\n",
       "      <td>...</td>\n",
       "    </tr>\n",
       "    <tr>\n",
       "      <th>1247</th>\n",
       "      <td>(3, 1, 1)</td>\n",
       "      <td>2602.415823</td>\n",
       "      <td>2.833980e+06</td>\n",
       "      <td>966.442330</td>\n",
       "      <td>1.028556e+18</td>\n",
       "      <td>0.218060</td>\n",
       "      <td>-5524.198611</td>\n",
       "      <td>-25333.34</td>\n",
       "      <td>-19809.141389</td>\n",
       "    </tr>\n",
       "    <tr>\n",
       "      <th>1248</th>\n",
       "      <td>(0, 1, 1)</td>\n",
       "      <td>946.569212</td>\n",
       "      <td>6.697342e+01</td>\n",
       "      <td>4.583704</td>\n",
       "      <td>8.126825e+15</td>\n",
       "      <td>0.292835</td>\n",
       "      <td>-30.214725</td>\n",
       "      <td>-103.18</td>\n",
       "      <td>-72.965275</td>\n",
       "    </tr>\n",
       "    <tr>\n",
       "      <th>1249</th>\n",
       "      <td>(2, 1, 1)</td>\n",
       "      <td>1738.367127</td>\n",
       "      <td>2.171307e+02</td>\n",
       "      <td>11.732137</td>\n",
       "      <td>3.627267e+16</td>\n",
       "      <td>1.365982</td>\n",
       "      <td>180.050074</td>\n",
       "      <td>-131.81</td>\n",
       "      <td>-311.860074</td>\n",
       "    </tr>\n",
       "    <tr>\n",
       "      <th>1250</th>\n",
       "      <td>(0, 1, 1)</td>\n",
       "      <td>2638.147695</td>\n",
       "      <td>3.638999e+05</td>\n",
       "      <td>469.286983</td>\n",
       "      <td>1.005056e+18</td>\n",
       "      <td>1.069548</td>\n",
       "      <td>7661.439699</td>\n",
       "      <td>-7163.25</td>\n",
       "      <td>-14824.689699</td>\n",
       "    </tr>\n",
       "    <tr>\n",
       "      <th>1251</th>\n",
       "      <td>(1, 1, 3)</td>\n",
       "      <td>2287.444300</td>\n",
       "      <td>2.400622e+05</td>\n",
       "      <td>332.666986</td>\n",
       "      <td>3.143609e+16</td>\n",
       "      <td>0.319101</td>\n",
       "      <td>-3351.127436</td>\n",
       "      <td>-10501.78</td>\n",
       "      <td>-7150.652564</td>\n",
       "    </tr>\n",
       "  </tbody>\n",
       "</table>\n",
       "<p>814 rows × 9 columns</p>\n",
       "</div>"
      ],
      "text/plain": [
       "     optimized_order          aic           mse         mae          mape  \\\n",
       "0          (3, 0, 3)    16.000000  3.126669e+04   86.284769  1.867593e+17   \n",
       "1          (0, 1, 1)  2115.073209  8.607606e+05  355.876246  6.173176e+17   \n",
       "4          (0, 1, 1)  2325.456662  5.076062e+05  432.387080  2.527708e+00   \n",
       "7          (1, 1, 2)  1619.591666  2.719323e+05  138.929241  9.232641e+16   \n",
       "8          (0, 1, 1)  1817.329387  4.027833e+03   52.639380  1.833374e+17   \n",
       "...              ...          ...           ...         ...           ...   \n",
       "1247       (3, 1, 1)  2602.415823  2.833980e+06  966.442330  1.028556e+18   \n",
       "1248       (0, 1, 1)   946.569212  6.697342e+01    4.583704  8.126825e+15   \n",
       "1249       (2, 1, 1)  1738.367127  2.171307e+02   11.732137  3.627267e+16   \n",
       "1250       (0, 1, 1)  2638.147695  3.638999e+05  469.286983  1.005056e+18   \n",
       "1251       (1, 1, 3)  2287.444300  2.400622e+05  332.666986  3.143609e+16   \n",
       "\n",
       "           ape      residue  target_value  predicted_value  \n",
       "0     0.017335    27.478819      -1585.20     -1612.678819  \n",
       "1     0.319871 -2292.137087      -7165.81     -4873.672913  \n",
       "4     0.293745 -4819.321515     -16406.46    -11587.138485  \n",
       "7     0.590447 -2184.466629      -3699.68     -1515.213371  \n",
       "8     1.670653   996.494257       -596.47     -1592.964257  \n",
       "...        ...          ...           ...              ...  \n",
       "1247  0.218060 -5524.198611     -25333.34    -19809.141389  \n",
       "1248  0.292835   -30.214725       -103.18       -72.965275  \n",
       "1249  1.365982   180.050074       -131.81      -311.860074  \n",
       "1250  1.069548  7661.439699      -7163.25    -14824.689699  \n",
       "1251  0.319101 -3351.127436     -10501.78     -7150.652564  \n",
       "\n",
       "[814 rows x 9 columns]"
      ]
     },
     "execution_count": 584,
     "metadata": {},
     "output_type": "execute_result"
    }
   ],
   "source": [
    "# Experiment results\n",
    "optimization_results_df = pd.DataFrame.from_dict(optimization_results, orient='index')\n",
    "optimization_results_df"
   ]
  },
  {
   "cell_type": "code",
   "execution_count": 588,
   "metadata": {},
   "outputs": [
    {
     "data": {
      "text/plain": [
       "<AxesSubplot:xlabel='target_value', ylabel='predicted_value'>"
      ]
     },
     "execution_count": 588,
     "metadata": {},
     "output_type": "execute_result"
    },
    {
     "data": {
      "image/png": "[encoded data removed]",
      "text/plain": [
       "<Figure size 432x288 with 1 Axes>"
      ]
     },
     "metadata": {
      "needs_background": "light"
     },
     "output_type": "display_data"
    }
   ],
   "source": [
    "# The dispersion of target vs predicted values seems somewhat linear\n",
    "optimization_results_df.plot(kind='scatter', x='target_value', y='predicted_value')"
   ]
  },
  {
   "cell_type": "code",
   "execution_count": 590,
   "metadata": {},
   "outputs": [
    {
     "data": {
      "text/plain": [
       "-7.133571993191623"
      ]
     },
     "execution_count": 590,
     "metadata": {},
     "output_type": "execute_result"
    }
   ],
   "source": [
    "# But the R^2 score is not satisfying\n",
    "r2_score(optimization_results_df['target_value'], optimization_results_df['predicted_value'])"
   ]
  },
  {
   "cell_type": "code",
   "execution_count": 587,
   "metadata": {},
   "outputs": [
    {
     "data": {
      "text/plain": [
       "6527.344529826008"
      ]
     },
     "execution_count": 587,
     "metadata": {},
     "output_type": "execute_result"
    }
   ],
   "source": [
    "# The mean absolute error\n",
    "mean_absolute_error(optimization_results_df['target_value'], optimization_results_df['predicted_value'])"
   ]
  },
  {
   "cell_type": "code",
   "execution_count": 608,
   "metadata": {},
   "outputs": [],
   "source": [
    "# Can I add features to correct the prediction, for example the balance ?\n",
    "linear_training_set = pd.concat([\n",
    "    optimization_results_df['predicted_value'],\n",
    "    pd.DataFrame.from_dict({\n",
    "        account_id: pd.concat([timeseries['train'], timeseries['validation']]).resample('d').sum().sum().amount \n",
    "for account_id, timeseries in timeseries_training_dataset.items()}, orient='index', \n",
    "columns=['estimated_balance']),\n",
    "], axis=1).dropna()"
   ]
  },
  {
   "cell_type": "code",
   "execution_count": 614,
   "metadata": {},
   "outputs": [
    {
     "data": {
      "text/plain": [
       "'Estimated an R^2 of 0.259 with a standard deviation of 0.263'"
      ]
     },
     "execution_count": 614,
     "metadata": {},
     "output_type": "execute_result"
    }
   ],
   "source": [
    "cv_scores = cross_val_score(\n",
    "    linear_model.LinearRegression(), \n",
    "    linear_training_set, \n",
    "    optimization_results_df['target_value'].values.reshape(-1, 1))\n",
    "f\"Estimated an R^2 of {cv_scores.mean():.3f} with a standard deviation of {cv_scores.std():.3f}\"\n",
    "# This is not satisfactory"
   ]
  },
  {
   "cell_type": "code",
   "execution_count": null,
   "metadata": {},
   "outputs": [],
   "source": [
    "# I had time to test up over here, I chose then to use the model with the best R^2 score and least MAE, \n",
    "# the Random Forests Regressor with vanilla hyperparameters"
   ]
  }
 ],
 "metadata": {
  "interpreter": {
   "hash": "6b7d3327779d416f2814cf9615899c531685549165bd71fc8e6feb3904019a34"
  },
  "kernelspec": {
   "display_name": "Python 3.8.8 64-bit ('base': conda)",
   "name": "python3"
  },
  "language_info": {
   "codemirror_mode": {
    "name": "ipython",
    "version": 3
   },
   "file_extension": ".py",
   "mimetype": "text/x-python",
   "name": "python",
   "nbconvert_exporter": "python",
   "pygments_lexer": "ipython3",
   "version": "3.8.8"
  },
  "orig_nbformat": 4
 },
 "nbformat": 4,
 "nbformat_minor": 2
}
